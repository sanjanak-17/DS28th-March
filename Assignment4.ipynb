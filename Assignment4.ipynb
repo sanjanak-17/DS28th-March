{
 "cells": [
  {
   "cell_type": "markdown",
   "metadata": {},
   "source": [
    "1.1 Write a Python Program(with class concepts) to find the area of the triangle using the below\n",
    "formula.\n",
    "\n",
    "area = (s*(s-a)*(s-b)*(s-c)) ** 0.5\n",
    "\n",
    "Function to take the length of the sides of triangle from user should be defined in the parent\n",
    "class and function to calculate the area should be defined in subclass."
   ]
  },
  {
   "cell_type": "code",
   "execution_count": 19,
   "metadata": {},
   "outputs": [
    {
     "name": "stdout",
     "output_type": "stream",
     "text": [
      "please enter the first side of triangle :10\n",
      "please enter the second side of triangle :10\n",
      "please enter the third side of triangle :10\n",
      "Area of the triangle is  43.30127018922193\n"
     ]
    }
   ],
   "source": [
    "class CalculateArea:\n",
    "    def __init__(self):\n",
    "        self.getInput()\n",
    "    \n",
    "    def getInput(self):\n",
    "        self.a = float(input(\"please enter the first side of triangle :\"))\n",
    "        self.b = float(input(\"please enter the second side of triangle :\"))\n",
    "        self.c = float(input(\"please enter the third side of triangle :\"))\n",
    "    \n",
    "\n",
    "class Triangle(CalculateArea):\n",
    "    def _init_(self):\n",
    "        super(Triangle, self)._init_()    \n",
    "    def area_calc(self):\n",
    "        s = (self.a+self.b+self.c)/2\n",
    "        area = (s*(s-self.a)*(s-self.b)*(s-self.c)) ** 0.5  \n",
    "        return area\n",
    "    \n",
    "tr = Triangle()\n",
    "area = tr.area_calc()\n",
    "print(\"Area of the triangle is \",area)\n",
    "\n",
    "    "
   ]
  },
  {
   "cell_type": "markdown",
   "metadata": {},
   "source": [
    "1.2 Write a function filter_long_words() that takes a list of words and an integer n and returns\n",
    "the list of words that are longer than n."
   ]
  },
  {
   "cell_type": "code",
   "execution_count": 48,
   "metadata": {},
   "outputs": [
    {
     "data": {
      "text/plain": [
       "['banana', 'postoffice', 'firetruck']"
      ]
     },
     "execution_count": 48,
     "metadata": {},
     "output_type": "execute_result"
    }
   ],
   "source": [
    "words = ['apple', 'banana','postoffice', 'firetruck', 'dog']\n",
    "op = []\n",
    "def filter_long_words(words, num):\n",
    "    op = (filter(lambda word: len(word)>num, words))\n",
    "    return op\n",
    "    \n",
    "output = list(filter_long_words(words, 5))\n",
    "output"
   ]
  },
  {
   "cell_type": "markdown",
   "metadata": {},
   "source": [
    "2.1 Write a Python program using function concept that maps list of words into a list of integers\n",
    "representing the lengths of the corresponding words.\n",
    "Hint: If a list [ ab,cde,erty] is passed on to the python function output should come as [2,3,4]\n",
    "Here 2,3 and 4 are the lengths of the words in the list."
   ]
  },
  {
   "cell_type": "code",
   "execution_count": 59,
   "metadata": {},
   "outputs": [
    {
     "data": {
      "text/plain": [
       "[2, 3, 4]"
      ]
     },
     "execution_count": 59,
     "metadata": {},
     "output_type": "execute_result"
    }
   ],
   "source": [
    "lst = [ 'ab','cde','erty']\n",
    "\n",
    "def listInteger(lst):\n",
    "    return list(map(lambda inp:len(inp), lst))\n",
    "\n",
    "out = listInteger(lst)\n",
    "out"
   ]
  },
  {
   "cell_type": "markdown",
   "metadata": {},
   "source": [
    "2.2 Write a Python function which takes a character (i.e. a string of length 1) and returns True if\n",
    "it is a vowel, False otherwise."
   ]
  },
  {
   "cell_type": "code",
   "execution_count": 66,
   "metadata": {},
   "outputs": [
    {
     "data": {
      "text/plain": [
       "False"
      ]
     },
     "execution_count": 66,
     "metadata": {},
     "output_type": "execute_result"
    }
   ],
   "source": [
    "#list of vowel \n",
    "the_vowel = [\"a\",\"e\",\"i\",\"o\",\"u\",\"A\",\"E\",\"i\",\"O\"]\n",
    "def isVowel(ch):\n",
    "    return ch in the_vowel \n",
    "isVowel('A')"
   ]
  },
  {
   "cell_type": "code",
   "execution_count": null,
   "metadata": {},
   "outputs": [],
   "source": []
  }
 ],
 "metadata": {
  "kernelspec": {
   "display_name": "Python 3",
   "language": "python",
   "name": "python3"
  },
  "language_info": {
   "codemirror_mode": {
    "name": "ipython",
    "version": 3
   },
   "file_extension": ".py",
   "mimetype": "text/x-python",
   "name": "python",
   "nbconvert_exporter": "python",
   "pygments_lexer": "ipython3",
   "version": "3.7.6"
  }
 },
 "nbformat": 4,
 "nbformat_minor": 4
}
